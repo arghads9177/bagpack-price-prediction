{
 "cells": [
  {
   "cell_type": "markdown",
   "id": "7d4b6221-1982-4eea-acc8-7bc97ed63993",
   "metadata": {},
   "source": [
    "# Bagpack Prediction Challenge"
   ]
  },
  {
   "cell_type": "markdown",
   "id": "a77b63aa-9186-4370-9d77-cea053cab895",
   "metadata": {},
   "source": [
    "### Import Necessary Libraries"
   ]
  },
  {
   "cell_type": "code",
   "execution_count": 1,
   "id": "6c96a5a2-6429-41a3-889e-0f00b93f9af5",
   "metadata": {},
   "outputs": [],
   "source": [
    "import pandas as pd\n",
    "import numpy as np\n",
    "import matplotlib.pyplot as plt\n",
    "import seaborn as sns\n",
    "import warnings\n",
    "from sklearn.model_selection import train_test_split"
   ]
  },
  {
   "cell_type": "markdown",
   "id": "7a081703-1615-463e-b9bc-98b2bc8c7fa0",
   "metadata": {},
   "source": [
    "### Import Data"
   ]
  },
  {
   "cell_type": "code",
   "execution_count": 3,
   "id": "7a6f6a7c-51eb-4328-bdad-e630d9109116",
   "metadata": {},
   "outputs": [],
   "source": [
    "# Import training data\n",
    "train_df = pd.read_csv(\"train.csv\")"
   ]
  },
  {
   "cell_type": "code",
   "execution_count": 4,
   "id": "bfd9d08e-bc66-4de4-bdd7-0b31f170d64f",
   "metadata": {},
   "outputs": [
    {
     "data": {
      "text/html": [
       "<div>\n",
       "<style scoped>\n",
       "    .dataframe tbody tr th:only-of-type {\n",
       "        vertical-align: middle;\n",
       "    }\n",
       "\n",
       "    .dataframe tbody tr th {\n",
       "        vertical-align: top;\n",
       "    }\n",
       "\n",
       "    .dataframe thead th {\n",
       "        text-align: right;\n",
       "    }\n",
       "</style>\n",
       "<table border=\"1\" class=\"dataframe\">\n",
       "  <thead>\n",
       "    <tr style=\"text-align: right;\">\n",
       "      <th></th>\n",
       "      <th>id</th>\n",
       "      <th>Brand</th>\n",
       "      <th>Material</th>\n",
       "      <th>Size</th>\n",
       "      <th>Compartments</th>\n",
       "      <th>Laptop Compartment</th>\n",
       "      <th>Waterproof</th>\n",
       "      <th>Style</th>\n",
       "      <th>Color</th>\n",
       "      <th>Weight Capacity (kg)</th>\n",
       "      <th>Price</th>\n",
       "    </tr>\n",
       "  </thead>\n",
       "  <tbody>\n",
       "    <tr>\n",
       "      <th>0</th>\n",
       "      <td>0</td>\n",
       "      <td>Jansport</td>\n",
       "      <td>Leather</td>\n",
       "      <td>Medium</td>\n",
       "      <td>7.0</td>\n",
       "      <td>Yes</td>\n",
       "      <td>No</td>\n",
       "      <td>Tote</td>\n",
       "      <td>Black</td>\n",
       "      <td>11.611723</td>\n",
       "      <td>112.15875</td>\n",
       "    </tr>\n",
       "    <tr>\n",
       "      <th>1</th>\n",
       "      <td>1</td>\n",
       "      <td>Jansport</td>\n",
       "      <td>Canvas</td>\n",
       "      <td>Small</td>\n",
       "      <td>10.0</td>\n",
       "      <td>Yes</td>\n",
       "      <td>Yes</td>\n",
       "      <td>Messenger</td>\n",
       "      <td>Green</td>\n",
       "      <td>27.078537</td>\n",
       "      <td>68.88056</td>\n",
       "    </tr>\n",
       "    <tr>\n",
       "      <th>2</th>\n",
       "      <td>2</td>\n",
       "      <td>Under Armour</td>\n",
       "      <td>Leather</td>\n",
       "      <td>Small</td>\n",
       "      <td>2.0</td>\n",
       "      <td>Yes</td>\n",
       "      <td>No</td>\n",
       "      <td>Messenger</td>\n",
       "      <td>Red</td>\n",
       "      <td>16.643760</td>\n",
       "      <td>39.17320</td>\n",
       "    </tr>\n",
       "    <tr>\n",
       "      <th>3</th>\n",
       "      <td>3</td>\n",
       "      <td>Nike</td>\n",
       "      <td>Nylon</td>\n",
       "      <td>Small</td>\n",
       "      <td>8.0</td>\n",
       "      <td>Yes</td>\n",
       "      <td>No</td>\n",
       "      <td>Messenger</td>\n",
       "      <td>Green</td>\n",
       "      <td>12.937220</td>\n",
       "      <td>80.60793</td>\n",
       "    </tr>\n",
       "    <tr>\n",
       "      <th>4</th>\n",
       "      <td>4</td>\n",
       "      <td>Adidas</td>\n",
       "      <td>Canvas</td>\n",
       "      <td>Medium</td>\n",
       "      <td>1.0</td>\n",
       "      <td>Yes</td>\n",
       "      <td>Yes</td>\n",
       "      <td>Messenger</td>\n",
       "      <td>Green</td>\n",
       "      <td>17.749338</td>\n",
       "      <td>86.02312</td>\n",
       "    </tr>\n",
       "  </tbody>\n",
       "</table>\n",
       "</div>"
      ],
      "text/plain": [
       "   id         Brand Material    Size  Compartments Laptop Compartment  \\\n",
       "0   0      Jansport  Leather  Medium           7.0                Yes   \n",
       "1   1      Jansport   Canvas   Small          10.0                Yes   \n",
       "2   2  Under Armour  Leather   Small           2.0                Yes   \n",
       "3   3          Nike    Nylon   Small           8.0                Yes   \n",
       "4   4        Adidas   Canvas  Medium           1.0                Yes   \n",
       "\n",
       "  Waterproof      Style  Color  Weight Capacity (kg)      Price  \n",
       "0         No       Tote  Black             11.611723  112.15875  \n",
       "1        Yes  Messenger  Green             27.078537   68.88056  \n",
       "2         No  Messenger    Red             16.643760   39.17320  \n",
       "3         No  Messenger  Green             12.937220   80.60793  \n",
       "4        Yes  Messenger  Green             17.749338   86.02312  "
      ]
     },
     "execution_count": 4,
     "metadata": {},
     "output_type": "execute_result"
    }
   ],
   "source": [
    "# Show 1st 5 rows of the data\n",
    "train_df.head()"
   ]
  },
  {
   "cell_type": "markdown",
   "id": "de486d25-2385-4507-a7d2-99014fc26721",
   "metadata": {},
   "source": [
    "### General Data Analysis"
   ]
  },
  {
   "cell_type": "code",
   "execution_count": 5,
   "id": "95dd3771-003a-4465-8293-6c05d03b0f07",
   "metadata": {},
   "outputs": [
    {
     "name": "stdout",
     "output_type": "stream",
     "text": [
      "No. of observations:300000\n",
      "No. of features:11\n"
     ]
    }
   ],
   "source": [
    "# Data Description\n",
    "print(f\"No. of observations:{train_df.shape[0]}\")\n",
    "print(f\"No. of features:{train_df.shape[1]}\")"
   ]
  },
  {
   "cell_type": "code",
   "execution_count": 9,
   "id": "1d804444-25b8-4abe-ac4c-eeadaafa2eeb",
   "metadata": {},
   "outputs": [
    {
     "name": "stdout",
     "output_type": "stream",
     "text": [
      "id                        int64\n",
      "Brand                    object\n",
      "Material                 object\n",
      "Size                     object\n",
      "Compartments            float64\n",
      "Laptop Compartment       object\n",
      "Waterproof               object\n",
      "Style                    object\n",
      "Color                    object\n",
      "Weight Capacity (kg)    float64\n",
      "Price                   float64\n",
      "dtype: object\n",
      "------------------------------------------------------------\n",
      "Number of Numeric Features: 4\n",
      "['id', 'Compartments', 'Weight Capacity (kg)', 'Price']\n",
      "------------------------------------------------------------\n",
      "Number of Categorical Features: 7\n",
      "['Brand', 'Material', 'Size', 'Laptop Compartment', 'Waterproof', 'Style', 'Color']\n"
     ]
    }
   ],
   "source": [
    "# Feature Description\n",
    "print(train_df.dtypes)\n",
    "num_cols = [col for col in train_df.columns if train_df[col].dtype != \"object\"]\n",
    "cat_cols = [col for col in train_df.columns if train_df[col].dtype == \"object\"]\n",
    "print(\"-\" * 60)\n",
    "print(f\"Number of Numeric Features: {len(num_cols)}\")\n",
    "print(num_cols)\n",
    "print(\"-\" * 60)\n",
    "print(f\"Number of Categorical Features: {len(cat_cols)}\")\n",
    "print(cat_cols)"
   ]
  },
  {
   "cell_type": "code",
   "execution_count": 11,
   "id": "9a9cf0e7-c1db-41ab-9b4a-3a7bac1f757c",
   "metadata": {},
   "outputs": [
    {
     "name": "stdout",
     "output_type": "stream",
     "text": [
      "id                         0\n",
      "Brand                   9705\n",
      "Material                8347\n",
      "Size                    6595\n",
      "Compartments               0\n",
      "Laptop Compartment      7444\n",
      "Waterproof              7050\n",
      "Style                   7970\n",
      "Color                   9950\n",
      "Weight Capacity (kg)     138\n",
      "Price                      0\n",
      "dtype: int64\n"
     ]
    }
   ],
   "source": [
    "# Missing Value Detection\n",
    "if train_df.isnull().sum().sum() > 0:\n",
    "    print(train_df.isnull().sum())\n",
    "else:\n",
    "    print(\"No missing value present in data\")"
   ]
  },
  {
   "cell_type": "code",
   "execution_count": 12,
   "id": "fa8f23d8-a4ff-470c-aca8-2f1b4d268144",
   "metadata": {},
   "outputs": [
    {
     "name": "stdout",
     "output_type": "stream",
     "text": [
      "Number of duplicate rows: 0\n"
     ]
    }
   ],
   "source": [
    "# Duplicate row Detection\n",
    "print(f\"Number of duplicate rows: {train_df.duplicated().sum()}\")"
   ]
  },
  {
   "cell_type": "code",
   "execution_count": null,
   "id": "37295dbe-5ee6-4c72-92e7-42245956a2bb",
   "metadata": {},
   "outputs": [],
   "source": []
  }
 ],
 "metadata": {
  "kernelspec": {
   "display_name": "Python 3 (ipykernel)",
   "language": "python",
   "name": "python3"
  },
  "language_info": {
   "codemirror_mode": {
    "name": "ipython",
    "version": 3
   },
   "file_extension": ".py",
   "mimetype": "text/x-python",
   "name": "python",
   "nbconvert_exporter": "python",
   "pygments_lexer": "ipython3",
   "version": "3.13.2"
  }
 },
 "nbformat": 4,
 "nbformat_minor": 5
}
